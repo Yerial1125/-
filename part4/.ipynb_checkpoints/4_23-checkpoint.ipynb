{
 "cells": [
  {
   "cell_type": "code",
   "execution_count": 1,
   "id": "6624fcc3",
   "metadata": {},
   "outputs": [],
   "source": [
    "import pandas as pd\n",
    "import matplotlib.pyplot as plt"
   ]
  },
  {
   "cell_type": "code",
   "execution_count": 2,
   "id": "3377b300",
   "metadata": {},
   "outputs": [],
   "source": [
    "plt.style.use('default')"
   ]
  },
  {
   "cell_type": "code",
   "execution_count": 3,
   "id": "547f9dd3",
   "metadata": {},
   "outputs": [],
   "source": [
    "df = pd.read_csv('data/auto-mpg.csv', header=None)"
   ]
  },
  {
   "cell_type": "code",
   "execution_count": 4,
   "id": "035cb744",
   "metadata": {},
   "outputs": [],
   "source": [
    "df.columns = ['mpg','cylinders','displacement','horsepower','weight','acceleration','model year','origin','name']"
   ]
  },
  {
   "cell_type": "code",
   "execution_count": 5,
   "id": "4592beba",
   "metadata": {},
   "outputs": [],
   "source": [
    "df['counts'] = 1"
   ]
  },
  {
   "cell_type": "code",
   "execution_count": 6,
   "id": "8e777b2d",
   "metadata": {},
   "outputs": [],
   "source": [
    "df_origin = df.groupby('origin').sum()"
   ]
  },
  {
   "cell_type": "code",
   "execution_count": 7,
   "id": "f1f36946",
   "metadata": {},
   "outputs": [
    {
     "data": {
      "text/html": [
       "<div>\n",
       "<style scoped>\n",
       "    .dataframe tbody tr th:only-of-type {\n",
       "        vertical-align: middle;\n",
       "    }\n",
       "\n",
       "    .dataframe tbody tr th {\n",
       "        vertical-align: top;\n",
       "    }\n",
       "\n",
       "    .dataframe thead th {\n",
       "        text-align: right;\n",
       "    }\n",
       "</style>\n",
       "<table border=\"1\" class=\"dataframe\">\n",
       "  <thead>\n",
       "    <tr style=\"text-align: right;\">\n",
       "      <th></th>\n",
       "      <th>mpg</th>\n",
       "      <th>cylinders</th>\n",
       "      <th>displacement</th>\n",
       "      <th>weight</th>\n",
       "      <th>acceleration</th>\n",
       "      <th>model year</th>\n",
       "      <th>counts</th>\n",
       "    </tr>\n",
       "    <tr>\n",
       "      <th>origin</th>\n",
       "      <th></th>\n",
       "      <th></th>\n",
       "      <th></th>\n",
       "      <th></th>\n",
       "      <th></th>\n",
       "      <th></th>\n",
       "      <th></th>\n",
       "    </tr>\n",
       "  </thead>\n",
       "  <tbody>\n",
       "    <tr>\n",
       "      <th>1</th>\n",
       "      <td>5000.8</td>\n",
       "      <td>1556</td>\n",
       "      <td>61229.5</td>\n",
       "      <td>837121.0</td>\n",
       "      <td>3743.4</td>\n",
       "      <td>18827</td>\n",
       "      <td>249</td>\n",
       "    </tr>\n",
       "    <tr>\n",
       "      <th>2</th>\n",
       "      <td>1952.4</td>\n",
       "      <td>291</td>\n",
       "      <td>7640.0</td>\n",
       "      <td>169631.0</td>\n",
       "      <td>1175.1</td>\n",
       "      <td>5307</td>\n",
       "      <td>70</td>\n",
       "    </tr>\n",
       "    <tr>\n",
       "      <th>3</th>\n",
       "      <td>2405.6</td>\n",
       "      <td>324</td>\n",
       "      <td>8114.0</td>\n",
       "      <td>175477.0</td>\n",
       "      <td>1277.6</td>\n",
       "      <td>6118</td>\n",
       "      <td>79</td>\n",
       "    </tr>\n",
       "  </tbody>\n",
       "</table>\n",
       "</div>"
      ],
      "text/plain": [
       "           mpg  cylinders  displacement    weight  acceleration  model year  \\\n",
       "origin                                                                        \n",
       "1       5000.8       1556       61229.5  837121.0        3743.4       18827   \n",
       "2       1952.4        291        7640.0  169631.0        1175.1        5307   \n",
       "3       2405.6        324        8114.0  175477.0        1277.6        6118   \n",
       "\n",
       "        counts  \n",
       "origin          \n",
       "1          249  \n",
       "2           70  \n",
       "3           79  "
      ]
     },
     "execution_count": 7,
     "metadata": {},
     "output_type": "execute_result"
    }
   ],
   "source": [
    "df_origin"
   ]
  },
  {
   "cell_type": "code",
   "execution_count": 8,
   "id": "b2ea95df",
   "metadata": {},
   "outputs": [],
   "source": [
    "df_origin.index = ['USA', 'EU','JPN']"
   ]
  },
  {
   "cell_type": "code",
   "execution_count": 12,
   "id": "f9310b09",
   "metadata": {},
   "outputs": [
    {
     "data": {
      "image/png": "[encoded data removed]",
      "text/plain": [
       "<Figure size 700x500 with 1 Axes>"
      ]
     },
     "metadata": {},
     "output_type": "display_data"
    }
   ],
   "source": [
    "df_origin['counts'].plot(kind='pie', figsize=(7,5),\n",
    "                       autopct='%.1f%%', startangle=10,\n",
    "                       colors=['chocolate','bisque','cadetblue'])\n",
    "\n",
    "plt.title('Model Origin', size=20)\n",
    "plt.axis('equal')\n",
    "plt.legend(labels=df_origin.index)\n",
    "plt.show()"
   ]
  },
  {
   "cell_type": "code",
   "execution_count": null,
   "id": "d3de5a4a",
   "metadata": {},
   "outputs": [],
   "source": []
  }
 ],
 "metadata": {
  "kernelspec": {
   "display_name": "Python 3 (ipykernel)",
   "language": "python",
   "name": "python3"
  },
  "language_info": {
   "codemirror_mode": {
    "name": "ipython",
    "version": 3
   },
   "file_extension": ".py",
   "mimetype": "text/x-python",
   "name": "python",
   "nbconvert_exporter": "python",
   "pygments_lexer": "ipython3",
   "version": "3.9.13"
  }
 },
 "nbformat": 4,
 "nbformat_minor": 5
}
